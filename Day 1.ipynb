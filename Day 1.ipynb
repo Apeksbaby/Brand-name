{
 "cells": [
  {
   "cell_type": "code",
   "execution_count": 3,
   "id": "d3dabd9d",
   "metadata": {},
   "outputs": [
    {
     "name": "stdout",
     "output_type": "stream",
     "text": [
      "Welcome to the Brand Name Generator.\n",
      "What is your nickname?\n",
      "Dayln\n",
      "What is the key word for your Brand?\n",
      "Creative\n",
      "Your new brand name is Dayln Creative\n"
     ]
    }
   ],
   "source": [
    "print (\"Welcome to the Brand Name Generator.\")\n",
    "Name = input(\"What is your nickname?\\n\")\n",
    "Info_on_Brand = input(\"What is the key word for your Brand?\\n\")\n",
    "Brand_name = ( Name + \" \" + Info_on_Brand)\n",
    "print(\"Your new brand name is\" + \" \" + Brand_name)"
   ]
  },
  {
   "cell_type": "code",
   "execution_count": null,
   "id": "19460bc3",
   "metadata": {},
   "outputs": [],
   "source": []
  }
 ],
 "metadata": {
  "kernelspec": {
   "display_name": "Python 3 (ipykernel)",
   "language": "python",
   "name": "python3"
  },
  "language_info": {
   "codemirror_mode": {
    "name": "ipython",
    "version": 3
   },
   "file_extension": ".py",
   "mimetype": "text/x-python",
   "name": "python",
   "nbconvert_exporter": "python",
   "pygments_lexer": "ipython3",
   "version": "3.10.9"
  }
 },
 "nbformat": 4,
 "nbformat_minor": 5
}
